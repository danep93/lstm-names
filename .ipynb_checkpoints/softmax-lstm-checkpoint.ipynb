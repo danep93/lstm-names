{
 "cells": [
  {
   "cell_type": "code",
   "execution_count": 1,
   "metadata": {},
   "outputs": [],
   "source": [
    "#VALIDATION_SET: built in to model.fit\n",
    "#ACTIVATION: softmax with Dense(3)\n",
    "#HYPERPARAMETERS: hardcoded\n",
    "#LOSS: binary_crossentropy\n",
    "#OPTIMIZER: adam\n",
    "#VISUALIZATION: loss vs LSTM epoch, f1 score"
   ]
  },
  {
   "cell_type": "code",
   "execution_count": 4,
   "metadata": {},
   "outputs": [],
   "source": [
    "import pandas as pd\n",
    "import numpy as np\n",
    "from sklearn.cross_validation import train_test_split\n",
    "from matplotlib import pyplot\n",
    "from keras.models import Sequential\n",
    "from keras.layers.core import Dense\n",
    "from keras.layers.core import Dropout\n",
    "from keras.layers.core import Activation\n",
    "from keras.layers.embeddings import Embedding\n",
    "from keras.layers.recurrent import LSTM\n",
    "import sklearn\n",
    "import pandas as pd\n",
    "import numpy as np\n",
    "import re\n",
    "from sklearn import metrics\n",
    "from keras.preprocessing import sequence\n",
    "from pandas import get_dummies\n",
    "import operator"
   ]
  },
  {
   "cell_type": "code",
   "execution_count": 5,
   "metadata": {},
   "outputs": [],
   "source": [
    "females_names_path = '/Users/beh502/Downloads/names/female.txt'\n",
    "male_names_path = '/Users/beh502/Downloads/names/male.txt'\n",
    "internet_words_path = '/Users/beh502/Downloads/unigram_freq.csv'"
   ]
  },
  {
   "cell_type": "code",
   "execution_count": 6,
   "metadata": {},
   "outputs": [],
   "source": [
    "with open('/Users/beh502/Downloads/names/female.txt') as f:\n",
    "    female_lines = f.read().splitlines()\n",
    "with open('/Users/beh502/Downloads/names/male.txt') as f:\n",
    "    male_lines = f.read().splitlines()"
   ]
  },
  {
   "cell_type": "code",
   "execution_count": 7,
   "metadata": {},
   "outputs": [],
   "source": [
    "names_list = list(set(male_lines + female_lines))\n",
    "female_list = list(set(female_lines))\n",
    "male_list = list(set(male_lines))\n"
   ]
  },
  {
   "cell_type": "code",
   "execution_count": 8,
   "metadata": {},
   "outputs": [],
   "source": [
    "# create dataframes, make equal representation\n",
    "male_df = pd.DataFrame({'word': male_list, 'target': 'male'})\n",
    "female_df = pd.DataFrame({'word': female_list, 'target': 'female'})\n",
    "\n",
    "internet_df = pd.read_csv(internet_words_path) #want 50/50 distribution in data, no bias\n",
    "internet_df = internet_df.drop(['count'], axis=1)\n",
    "internet_df['target'] = 'internet'\n",
    "\n",
    "min_size = min(male_df.shape[0], female_df.shape[0], internet_df.shape[0])\n",
    "male_df = male_df.head(min_size)\n",
    "female_df = female_df.head(min_size)\n",
    "internet_df = internet_df.head(min_size)"
   ]
  },
  {
   "cell_type": "code",
   "execution_count": 9,
   "metadata": {},
   "outputs": [],
   "source": [
    "# merge them, clean up, apply get_dummies\n",
    "name_frames = [male_df, female_df]\n",
    "merged_names_df = pd.concat(name_frames)\n",
    "#drop all names that appear in both boys and girls list. Later we'll test some gender neutral names\n",
    "merged_names_df = merged_names_df.drop_duplicates(subset='word', keep=False)\n",
    "\n",
    "frames = [merged_names_df, internet_df]\n",
    "merged_df = pd.concat(frames)\n",
    "#drop all names that appear in internet words list by getting rid of duplicates and keeping first (merged_names)\n",
    "merged_df = merged_df.drop_duplicates(subset='word', keep='first')\n",
    "merged_df = pd.get_dummies(merged_df, columns=['target'])\n",
    "merged_df = merged_df.dropna()"
   ]
  },
  {
   "cell_type": "code",
   "execution_count": 10,
   "metadata": {},
   "outputs": [],
   "source": [
    "merged_df['word'] = merged_df['word'].str.lower()\n",
    "merged_df['word'] = merged_df['word'].str.strip()\n",
    "X = merged_df['word']\n",
    "y = merged_df[['target_male', 'target_female', 'target_internet']].values"
   ]
  },
  {
   "cell_type": "code",
   "execution_count": 11,
   "metadata": {},
   "outputs": [],
   "source": [
    "valid_chars = {x:idx+1 for idx, x in enumerate(set(''.join(X)))}"
   ]
  },
  {
   "cell_type": "code",
   "execution_count": 12,
   "metadata": {},
   "outputs": [
    {
     "name": "stdout",
     "output_type": "stream",
     "text": [
      "Max length of word:  15\n",
      "Max features (characters):  30\n"
     ]
    }
   ],
   "source": [
    "max_word_len = np.max([len(x) for x in X])\n",
    "max_features = len(valid_chars) + 1\n",
    "print(\"Max length of word: \", str(max_word_len))\n",
    "print(\"Max features (characters): \", str(max_features))"
   ]
  },
  {
   "cell_type": "code",
   "execution_count": 13,
   "metadata": {},
   "outputs": [],
   "source": [
    "x_data_sequences = [[valid_chars[char] for char in word] for word in X]\n",
    "x_data_sequences = sequence.pad_sequences(x_data_sequences, maxlen=max_word_len)"
   ]
  },
  {
   "cell_type": "code",
   "execution_count": 14,
   "metadata": {},
   "outputs": [],
   "source": [
    "batch_size = 32\n",
    "epochs = 18\n",
    "embedding_layer = Embedding(max_features, 256, input_length=max_word_len)\n",
    "lstm_layer = LSTM(max_features)\n",
    "dropout_layer = Dropout(0.2)\n",
    "dense_layer = Dense(3)\n",
    "softmax_layer = Activation('softmax')\n",
    "\n",
    "model = Sequential([embedding_layer, lstm_layer, dropout_layer, dense_layer, softmax_layer])\n",
    "model.compile(loss='binary_crossentropy', optimizer='adam')"
   ]
  },
  {
   "cell_type": "code",
   "execution_count": 15,
   "metadata": {},
   "outputs": [],
   "source": [
    "X_train, X_test, y_train, y_test = train_test_split(x_data_sequences, y, test_size=0.2, random_state=0)"
   ]
  },
  {
   "cell_type": "code",
   "execution_count": 16,
   "metadata": {},
   "outputs": [
    {
     "name": "stdout",
     "output_type": "stream",
     "text": [
      "Train on 4501 samples, validate on 2217 samples\n",
      "Epoch 1/18\n",
      "4501/4501 [==============================] - 3s 659us/step - loss: 0.5533 - val_loss: 0.4847\n",
      "Epoch 2/18\n",
      "4501/4501 [==============================] - 2s 508us/step - loss: 0.4823 - val_loss: 0.4712\n",
      "Epoch 3/18\n",
      "4501/4501 [==============================] - 2s 525us/step - loss: 0.4651 - val_loss: 0.4506\n",
      "Epoch 4/18\n",
      "4501/4501 [==============================] - 2s 548us/step - loss: 0.4455 - val_loss: 0.4381\n",
      "Epoch 5/18\n",
      "4501/4501 [==============================] - 2s 538us/step - loss: 0.4351 - val_loss: 0.4279\n",
      "Epoch 6/18\n",
      "4501/4501 [==============================] - 2s 519us/step - loss: 0.4206 - val_loss: 0.4211\n",
      "Epoch 7/18\n",
      "4501/4501 [==============================] - 2s 523us/step - loss: 0.4118 - val_loss: 0.4184\n",
      "Epoch 8/18\n",
      "4501/4501 [==============================] - 2s 532us/step - loss: 0.4036 - val_loss: 0.4107\n",
      "Epoch 9/18\n",
      "4501/4501 [==============================] - 3s 572us/step - loss: 0.3965 - val_loss: 0.4099\n",
      "Epoch 10/18\n",
      "4501/4501 [==============================] - 3s 557us/step - loss: 0.3920 - val_loss: 0.4100\n",
      "Epoch 11/18\n",
      "4501/4501 [==============================] - 2s 534us/step - loss: 0.3847 - val_loss: 0.4033\n",
      "Epoch 12/18\n",
      "4501/4501 [==============================] - 3s 564us/step - loss: 0.3787 - val_loss: 0.3984\n",
      "Epoch 13/18\n",
      "4501/4501 [==============================] - 2s 541us/step - loss: 0.3749 - val_loss: 0.3983\n",
      "Epoch 14/18\n",
      "4501/4501 [==============================] - 2s 548us/step - loss: 0.3671 - val_loss: 0.4061\n",
      "Epoch 15/18\n",
      "4501/4501 [==============================] - 2s 552us/step - loss: 0.3647 - val_loss: 0.3957\n",
      "Epoch 16/18\n",
      "4501/4501 [==============================] - 3s 722us/step - loss: 0.3558 - val_loss: 0.3940\n",
      "Epoch 17/18\n",
      "4501/4501 [==============================] - 3s 709us/step - loss: 0.3515 - val_loss: 0.3991\n",
      "Epoch 18/18\n",
      "4501/4501 [==============================] - 3s 678us/step - loss: 0.3471 - val_loss: 0.3921\n"
     ]
    }
   ],
   "source": [
    "history = model.fit(X_train, y_train, epochs = epochs, batch_size = batch_size, validation_split=0.33)"
   ]
  },
  {
   "cell_type": "code",
   "execution_count": 17,
   "metadata": {},
   "outputs": [
    {
     "data": {
      "image/png": "[encoded data removed]",
      "text/plain": [
       "<matplotlib.figure.Figure at 0x118f06f28>"
      ]
     },
     "metadata": {},
     "output_type": "display_data"
    }
   ],
   "source": [
    "%matplotlib inline\n",
    "pyplot.plot(history.history['loss'], color='blue')\n",
    "pyplot.plot(history.history['val_loss'], color='red')\n",
    "pyplot.title('softmax train vs validation loss')\n",
    "pyplot.ylabel('loss')\n",
    "pyplot.xlabel('epoch')\n",
    "pyplot.legend(['train', 'validation'], loc='upper right')\n",
    "pyplot.show()"
   ]
  },
  {
   "cell_type": "code",
   "execution_count": 18,
   "metadata": {},
   "outputs": [],
   "source": [
    "#Create a function to map sequences back to strings for predictions\n",
    "#for lookup it's easier to use an inverted version of valid_chars\n",
    "\n",
    "inverted_valid_chars = {v: k for k, v in valid_chars.items()}\n",
    "\n",
    "def sequence_to_string(sequence):\n",
    "    constructed = ''\n",
    "    inverted_keys = list(inverted_valid_chars.keys())\n",
    "    for num in sequence:\n",
    "        if(num != 0):\n",
    "            constructed += inverted_valid_chars[num]\n",
    "    return constructed"
   ]
  },
  {
   "cell_type": "code",
   "execution_count": 19,
   "metadata": {},
   "outputs": [],
   "source": [
    "#predict some results\n",
    "predicted_y_test = model.predict(X_test)"
   ]
  },
  {
   "cell_type": "code",
   "execution_count": 20,
   "metadata": {},
   "outputs": [],
   "source": [
    "def get_max_index(my_list):\n",
    "    index, value = max(enumerate(my_list), key=operator.itemgetter(1))\n",
    "    return index"
   ]
  },
  {
   "cell_type": "code",
   "execution_count": 21,
   "metadata": {},
   "outputs": [
    {
     "name": "stdout",
     "output_type": "stream",
     "text": [
      "word \t \t y_true \t \t y_pred \t \t \t flat y_true \t flat_y_pred \t\n",
      "ellsworth \t [1 0 0] \t [ 0.70767719  0.12385529  0.16846749] \t 0 \t \t 0\n",
      "kikelia \t [0 1 0] \t [ 0.01706058  0.9793011   0.00363839] \t 1 \t \t 1\n",
      "creighton \t [1 0 0] \t [ 0.58404255  0.01379446  0.402163  ] \t 0 \t \t 0\n",
      "claudine \t [0 1 0] \t [ 0.04105966  0.9519943   0.00694604] \t 1 \t \t 1\n",
      "adolpho \t [1 0 0] \t [ 0.87944555  0.04412998  0.07642443] \t 0 \t \t 0\n",
      "suggest \t [0 0 1] \t [ 0.3958995   0.08302166  0.52107888] \t 2 \t \t 2\n",
      "graduate \t [0 0 1] \t [ 0.46279335  0.17079337  0.3664133 ] \t 2 \t \t 0\n",
      "register \t [0 0 1] \t [ 0.38281858  0.10234907  0.51483232] \t 2 \t \t 2\n"
     ]
    }
   ],
   "source": [
    "# Print some results\n",
    "\n",
    "num_results = 20\n",
    "# predicted_y_test = predicted_y_test.flatten()\n",
    "print(\"word \\t \\t y_true \\t \\t y_pred \\t \\t \\t flat y_true \\t flat_y_pred \\t\")\n",
    "for i in range(0, num_results):\n",
    "    domain = sequence_to_string(X_test[i])\n",
    "    if len(domain) > 6 and len(domain) < 10:\n",
    "        rounded_y_true = get_max_index(y_test[i])\n",
    "        rounded_y_pred = get_max_index(predicted_y_test[i])\n",
    "        result = \"%s \\t %s \\t %s \\t %s \\t \\t %s\" % (sequence_to_string(X_test[i]), y_test[i], predicted_y_test[i], rounded_y_true, rounded_y_pred)\n",
    "        print(result)"
   ]
  },
  {
   "cell_type": "markdown",
   "metadata": {},
   "source": [
    "## Evaluation"
   ]
  },
  {
   "cell_type": "code",
   "execution_count": 22,
   "metadata": {},
   "outputs": [],
   "source": [
    "def get_ratio(word):\n",
    "    vowel_count = 0\n",
    "    char_count = len(word)\n",
    "    vowels = ['a','i','e','o','u'] #sorry y, it's a full time job\n",
    "    for c in word:\n",
    "        if(c in vowels):\n",
    "            vowel_count+= 1\n",
    "    return (float(vowel_count)/char_count)"
   ]
  },
  {
   "cell_type": "code",
   "execution_count": 23,
   "metadata": {},
   "outputs": [
    {
     "name": "stdout",
     "output_type": "stream",
     "text": [
      "             word  rounded_y_pred  y_true\n",
      "1670       melesa               1       1\n",
      "1671       dorena               1       1\n",
      "1672           mg               2       2\n",
      "1673      amateur               0       2\n",
      "1674       jo ann               1       1\n",
      "1675   conference               2       2\n",
      "1676       forest               2       2\n",
      "1677       kizzee               1       1\n",
      "1678  independent               2       2\n",
      "1679         dana               1       0\n"
     ]
    }
   ],
   "source": [
    "# words = map(lambda x: sequence_to_string(x), X_test)\n",
    "# mapped_true = map(lambda x: get_max_index(x), y_test)\n",
    "# mapped_predicted = map(lambda x: get_max_index(x), predicted_y_test)\n",
    "\n",
    "words = [sequence_to_string(x) for x in X_test]\n",
    "mapped_true = [get_max_index(x) for x in y_test]\n",
    "mapped_predicted = [get_max_index(x) for x in predicted_y_test]\n",
    "\n",
    "\n",
    "eval_df = pd.DataFrame({'word': words,'y_true': mapped_true,\n",
    "                        'rounded_y_pred': mapped_predicted })\n",
    "\n",
    "#reorder columns for pretty print\n",
    "eval_df = eval_df[['word', 'rounded_y_pred', 'y_true']]\n",
    "print(eval_df.tail(10))"
   ]
  },
  {
   "cell_type": "code",
   "execution_count": 24,
   "metadata": {},
   "outputs": [
    {
     "name": "stdout",
     "output_type": "stream",
     "text": [
      "accuracy score:  0.747023809524\n",
      "f1 score:  0.745798319467\n",
      "log loss score:  0.34714355651\n"
     ]
    }
   ],
   "source": [
    "f1_score = metrics.f1_score(eval_df['y_true'].values, eval_df['rounded_y_pred'].values, average='macro')\n",
    "accuracy_score = metrics.accuracy_score(eval_df['y_true'].values, eval_df['rounded_y_pred'].values)\n",
    "print(\"accuracy score: \", str(accuracy_score))\n",
    "print(\"f1 score: \", str(f1_score))\n",
    "print(\"log loss score: \", str(history.history['loss'][-1]))"
   ]
  },
  {
   "cell_type": "code",
   "execution_count": null,
   "metadata": {},
   "outputs": [],
   "source": []
  }
 ],
 "metadata": {
  "kernelspec": {
   "display_name": "Python 3",
   "language": "python",
   "name": "python3"
  },
  "language_info": {
   "codemirror_mode": {
    "name": "ipython",
    "version": 3
   },
   "file_extension": ".py",
   "mimetype": "text/x-python",
   "name": "python",
   "nbconvert_exporter": "python",
   "pygments_lexer": "ipython3",
   "version": "3.6.3"
  }
 },
 "nbformat": 4,
 "nbformat_minor": 2
}
